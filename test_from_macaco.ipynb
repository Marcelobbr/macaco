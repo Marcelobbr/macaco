{
 "cells": [
  {
   "cell_type": "markdown",
   "metadata": {},
   "source": [
    "# notebook description\n",
    "This notebook is to the test macaco.py methods and atributes."
   ]
  },
  {
   "cell_type": "markdown",
   "metadata": {},
   "source": [
    "# build methods"
   ]
  },
  {
   "cell_type": "code",
   "execution_count": 1,
   "metadata": {},
   "outputs": [],
   "source": [
    "import macaco as mc"
   ]
  },
  {
   "cell_type": "markdown",
   "metadata": {},
   "source": [
    "# show methods"
   ]
  },
  {
   "cell_type": "code",
   "execution_count": 49,
   "metadata": {},
   "outputs": [
    {
     "data": {
      "text/plain": [
       "['check_size',\n",
       " 'insert',\n",
       " 'locateCel',\n",
       " 'locateRow',\n",
       " 'plot',\n",
       " 'remove',\n",
       " 'show',\n",
       " 'summary',\n",
       " 'toIndxCol',\n",
       " 'tolist']"
      ]
     },
     "execution_count": 49,
     "metadata": {},
     "output_type": "execute_result"
    }
   ],
   "source": [
    "dir(mc.dataframe)[-10:]"
   ]
  },
  {
   "cell_type": "markdown",
   "metadata": {},
   "source": [
    "# test empty data initializer"
   ]
  },
  {
   "cell_type": "code",
   "execution_count": 3,
   "metadata": {},
   "outputs": [
    {
     "data": {
      "text/plain": [
       "{}"
      ]
     },
     "execution_count": 3,
     "metadata": {},
     "output_type": "execute_result"
    }
   ],
   "source": [
    "df = mc.dataframe()\n",
    "df.columns_dict"
   ]
  },
  {
   "cell_type": "code",
   "execution_count": null,
   "metadata": {},
   "outputs": [],
   "source": [
    "import random"
   ]
  },
  {
   "cell_type": "code",
   "execution_count": 4,
   "metadata": {},
   "outputs": [],
   "source": [
    "items = [0.9,1.1,3.3,2.2,4.4,5.5,6.6,7.7,8.8,9.9]\n",
    "df.insert('0', ['alpha','beta','gama','delta', 'eta', 'phi', 'kappa', 'mu', 'pi', 'sigma'])\n",
    "df.insert('1' ,items)\n",
    "random.shuffle(items)\n",
    "df.insert('2' ,items)\n",
    "random.shuffle(items)\n",
    "df.insert('3' ,items)\n",
    "random.shuffle(items)\n",
    "df.insert('4' ,items)\n",
    "random.shuffle(items)\n",
    "df.insert('5' ,items)\n",
    "random.shuffle(items)\n",
    "df.insert('6' ,items)"
   ]
  },
  {
   "cell_type": "markdown",
   "metadata": {},
   "source": [
    "# summarize data"
   ]
  },
  {
   "cell_type": "code",
   "execution_count": 5,
   "metadata": {},
   "outputs": [
    {
     "name": "stdout",
     "output_type": "stream",
     "text": [
      "['0', '1', '2', '3', '4', '5', '6']\n"
     ]
    }
   ],
   "source": [
    "print(df.summary('columns'))"
   ]
  },
  {
   "cell_type": "code",
   "execution_count": 6,
   "metadata": {},
   "outputs": [
    {
     "name": "stdout",
     "output_type": "stream",
     "text": [
      "0     str\n",
      "1     dbl\n",
      "2     dbl\n",
      "3     dbl\n",
      "4     dbl\n",
      "5     dbl\n",
      "6     dbl\n"
     ]
    }
   ],
   "source": [
    "df.summary('dtypes')"
   ]
  },
  {
   "cell_type": "code",
   "execution_count": 7,
   "metadata": {},
   "outputs": [
    {
     "name": "stdout",
     "output_type": "stream",
     "text": [
      "RangeIndex: 10 entries, 0 to 9\n",
      "Data columns (total 7 columns):\n",
      "0      10 non-null       str\n",
      "1      10 non-null       dbl\n",
      "2      10 non-null       dbl\n",
      "3      10 non-null       dbl\n",
      "4      10 non-null       dbl\n",
      "5      10 non-null       dbl\n",
      "6      10 non-null       dbl\n",
      "dtypes: str, dbl, "
     ]
    }
   ],
   "source": [
    "df.summary('info')"
   ]
  },
  {
   "cell_type": "code",
   "execution_count": 8,
   "metadata": {},
   "outputs": [
    {
     "name": "stdout",
     "output_type": "stream",
     "text": [
      "dataframe is limited to 10 rows and 5 columns. \n",
      "\n",
      "|      index      |      0          |      1          |      2          |      3          |      4          \n",
      "|                 |                 |                 |                 |                 \n",
      "|      0          |      alpha      |      0.9        |      9.9        |      3.3        |      0.9        \n",
      "|      1          |      beta       |      1.1        |      3.3        |      9.9        |      9.9        \n",
      "|      2          |      gama       |      3.3        |      6.6        |      0.9        |      5.5        \n",
      "|      3          |      delta      |      2.2        |      4.4        |      2.2        |      2.2        \n",
      "|      4          |      eta        |      4.4        |      2.2        |      6.6        |      8.8        \n",
      "|      5          |      phi        |      5.5        |      1.1        |      7.7        |      4.4        \n",
      "|      6          |      kappa      |      6.6        |      8.8        |      8.8        |      1.1        \n",
      "|      7          |      mu         |      7.7        |      0.9        |      4.4        |      6.6        \n",
      "|      8          |      pi         |      8.8        |      7.7        |      1.1        |      3.3        \n",
      "|      9          |      sigma      |      9.9        |      5.5        |      5.5        |      7.7        \n"
     ]
    }
   ],
   "source": [
    "df.show(head = 10, col_max = 5)"
   ]
  },
  {
   "cell_type": "markdown",
   "metadata": {},
   "source": [
    "# test column insertion"
   ]
  },
  {
   "cell_type": "code",
   "execution_count": 27,
   "metadata": {},
   "outputs": [],
   "source": [
    "initial_columns = {'0': [0, 1, 2, 3, 4, 5, 6, 7, 8, 9], \n",
    "                   '1': ['0', '1', '2', '3', '4', '5', '6', '7', '8', '9'], \n",
    "                   '2': ['alpha','beta','gama','delta', 'eta', 'phi', 'kappa', 'mu', 'pi', 'sigma']}\n",
    "df = mc.dataframe(initial_columns)\n",
    "#df = dataframe()\n",
    "df.insert('1', [0.9,1.1,3.3,2.2,4.4,5.5,6.6,7.7,8.8,9.9])"
   ]
  },
  {
   "cell_type": "code",
   "execution_count": 28,
   "metadata": {},
   "outputs": [
    {
     "name": "stdout",
     "output_type": "stream",
     "text": [
      "dataframe is limited to 10 rows and 5 columns. \n",
      "\n",
      "|      index      |      0          |      1          |      2          \n",
      "|                 |                 |                 |                 \n",
      "|      0          |      0.0        |      0.9        |      alpha      \n",
      "|      1          |      1.0        |      1.1        |      beta       \n",
      "|      2          |      2.0        |      3.3        |      gama       \n",
      "|      3          |      3.0        |      2.2        |      delta      \n",
      "|      4          |      4.0        |      4.4        |      eta        \n",
      "|      5          |      5.0        |      5.5        |      phi        \n",
      "|      6          |      6.0        |      6.6        |      kappa      \n",
      "|      7          |      7.0        |      7.7        |      mu         \n",
      "|      8          |      8.0        |      8.8        |      pi         \n",
      "|      9          |      9.0        |      9.9        |      sigma      \n"
     ]
    }
   ],
   "source": [
    "df.show(head = 10, col_max = 5)"
   ]
  },
  {
   "cell_type": "code",
   "execution_count": 29,
   "metadata": {},
   "outputs": [
    {
     "data": {
      "text/plain": [
       "[10, 4]"
      ]
     },
     "execution_count": 29,
     "metadata": {},
     "output_type": "execute_result"
    }
   ],
   "source": [
    "df.dimensions"
   ]
  },
  {
   "cell_type": "markdown",
   "metadata": {},
   "source": [
    "# draw graphic of 2 columns"
   ]
  },
  {
   "cell_type": "markdown",
   "metadata": {},
   "source": [
    "test with standard mode (lineplot)"
   ]
  },
  {
   "cell_type": "code",
   "execution_count": 30,
   "metadata": {
    "scrolled": true
   },
   "outputs": [
    {
     "data": {
      "image/png": "[encoded data removed]",
      "text/plain": [
       "<Figure size 432x288 with 1 Axes>"
      ]
     },
     "metadata": {
      "needs_background": "light"
     },
     "output_type": "display_data"
    }
   ],
   "source": [
    "df.plot('0', '1')"
   ]
  },
  {
   "cell_type": "markdown",
   "metadata": {},
   "source": [
    "test with scatterplot mode"
   ]
  },
  {
   "cell_type": "code",
   "execution_count": 31,
   "metadata": {
    "scrolled": true
   },
   "outputs": [
    {
     "data": {
      "image/png": "[encoded data removed]",
      "text/plain": [
       "<Figure size 432x288 with 1 Axes>"
      ]
     },
     "metadata": {
      "needs_background": "light"
     },
     "output_type": "display_data"
    }
   ],
   "source": [
    "df.plot('0', '1', how='scatterplot')"
   ]
  },
  {
   "cell_type": "markdown",
   "metadata": {},
   "source": [
    "I programmed macaco to output error if tries to plot list of strings "
   ]
  },
  {
   "cell_type": "markdown",
   "metadata": {},
   "source": [
    "# show data from columns"
   ]
  },
  {
   "cell_type": "code",
   "execution_count": 32,
   "metadata": {},
   "outputs": [
    {
     "data": {
      "text/plain": [
       "[0.0, 1.0, 2.0, 3.0, 4.0, 5.0, 6.0, 7.0, 8.0, 9.0]"
      ]
     },
     "execution_count": 32,
     "metadata": {},
     "output_type": "execute_result"
    }
   ],
   "source": [
    "df.tolist('0')"
   ]
  },
  {
   "cell_type": "code",
   "execution_count": 33,
   "metadata": {},
   "outputs": [
    {
     "data": {
      "text/plain": [
       "[0.9, 1.1, 3.3, 2.2, 4.4, 5.5, 6.6, 7.7, 8.8, 9.9]"
      ]
     },
     "execution_count": 33,
     "metadata": {},
     "output_type": "execute_result"
    }
   ],
   "source": [
    "df.tolist('1')"
   ]
  },
  {
   "cell_type": "code",
   "execution_count": 34,
   "metadata": {},
   "outputs": [
    {
     "data": {
      "text/plain": [
       "['alpha', 'beta', 'gama', 'delta', 'eta', 'phi', 'kappa', 'mu', 'pi', 'sigma']"
      ]
     },
     "execution_count": 34,
     "metadata": {},
     "output_type": "execute_result"
    }
   ],
   "source": [
    "df.tolist('2')"
   ]
  },
  {
   "cell_type": "markdown",
   "metadata": {},
   "source": [
    "# show data"
   ]
  },
  {
   "cell_type": "code",
   "execution_count": 35,
   "metadata": {},
   "outputs": [
    {
     "name": "stdout",
     "output_type": "stream",
     "text": [
      "[2.0, 3.0]\n",
      "[0.9]\n",
      "['gama', 'delta']\n",
      "{'0': [[0.0, 1.0]], '1': [[0.9, 1.1]], '2': [['alpha', 'beta']]}\n"
     ]
    }
   ],
   "source": [
    "print(df.locateCel('0', [2,3]))\n",
    "print(df.locateCel('1',0))\n",
    "print(df.locateCel('2',[2,3]))\n",
    "print(df.locateRow([0,1]))"
   ]
  },
  {
   "cell_type": "code",
   "execution_count": 36,
   "metadata": {},
   "outputs": [
    {
     "name": "stdout",
     "output_type": "stream",
     "text": [
      "dataframe is limited to 10 rows and 5 columns. \n",
      "\n",
      "|      index      |      0          |      1          |      2          \n",
      "|                 |                 |                 |                 \n",
      "|      0          |      0.0        |      0.9        |      alpha      \n",
      "|      1          |      1.0        |      1.1        |      beta       \n",
      "|      2          |      2.0        |      3.3        |      gama       \n",
      "|      3          |      3.0        |      2.2        |      delta      \n",
      "|      4          |      4.0        |      4.4        |      eta        \n",
      "|      5          |      5.0        |      5.5        |      phi        \n",
      "|      6          |      6.0        |      6.6        |      kappa      \n",
      "|      7          |      7.0        |      7.7        |      mu         \n",
      "|      8          |      8.0        |      8.8        |      pi         \n",
      "|      9          |      9.0        |      9.9        |      sigma      \n"
     ]
    }
   ],
   "source": [
    "df.show()"
   ]
  },
  {
   "cell_type": "markdown",
   "metadata": {},
   "source": [
    "# index"
   ]
  },
  {
   "cell_type": "code",
   "execution_count": 37,
   "metadata": {},
   "outputs": [],
   "source": [
    "for column in ['0', '1']:\n",
    "    df.toIndxCol(column)"
   ]
  },
  {
   "cell_type": "code",
   "execution_count": 38,
   "metadata": {},
   "outputs": [
    {
     "data": {
      "text/plain": [
       "['0', '1']"
      ]
     },
     "execution_count": 38,
     "metadata": {},
     "output_type": "execute_result"
    }
   ],
   "source": [
    "df.indexes"
   ]
  },
  {
   "cell_type": "markdown",
   "metadata": {},
   "source": [
    "# test removal"
   ]
  },
  {
   "cell_type": "code",
   "execution_count": 39,
   "metadata": {},
   "outputs": [
    {
     "data": {
      "text/plain": [
       "[10, 4]"
      ]
     },
     "execution_count": 39,
     "metadata": {},
     "output_type": "execute_result"
    }
   ],
   "source": [
    "df.dimensions"
   ]
  },
  {
   "cell_type": "code",
   "execution_count": 40,
   "metadata": {},
   "outputs": [
    {
     "data": {
      "text/plain": [
       "['0', '1', '2']"
      ]
     },
     "execution_count": 40,
     "metadata": {},
     "output_type": "execute_result"
    }
   ],
   "source": [
    "df.summary('columns')"
   ]
  },
  {
   "cell_type": "code",
   "execution_count": 41,
   "metadata": {},
   "outputs": [],
   "source": [
    "df.remove('0')"
   ]
  },
  {
   "cell_type": "code",
   "execution_count": 42,
   "metadata": {},
   "outputs": [
    {
     "data": {
      "text/plain": [
       "['1', '2']"
      ]
     },
     "execution_count": 42,
     "metadata": {},
     "output_type": "execute_result"
    }
   ],
   "source": [
    "df.summary('columns')"
   ]
  },
  {
   "cell_type": "code",
   "execution_count": 43,
   "metadata": {},
   "outputs": [
    {
     "data": {
      "text/plain": [
       "[10, 3]"
      ]
     },
     "execution_count": 43,
     "metadata": {},
     "output_type": "execute_result"
    }
   ],
   "source": [
    "df.dimensions"
   ]
  },
  {
   "cell_type": "code",
   "execution_count": null,
   "metadata": {},
   "outputs": [],
   "source": []
  }
 ],
 "metadata": {
  "kernelspec": {
   "display_name": "Python 3",
   "language": "python",
   "name": "python3"
  },
  "language_info": {
   "codemirror_mode": {
    "name": "ipython",
    "version": 3
   },
   "file_extension": ".py",
   "mimetype": "text/x-python",
   "name": "python",
   "nbconvert_exporter": "python",
   "pygments_lexer": "ipython3",
   "version": "3.7.3"
  }
 },
 "nbformat": 4,
 "nbformat_minor": 2
}

{
 "cells": [
  {
   "cell_type": "code",
   "execution_count": 1,
   "metadata": {},
   "outputs": [],
   "source": [
    "import macaco as mc"
   ]
  },
  {
   "cell_type": "code",
   "execution_count": 2,
   "metadata": {},
   "outputs": [
    {
     "data": {
      "text/plain": [
       "'self.df.GetColunaInt(column)'"
      ]
     },
     "execution_count": 2,
     "metadata": {},
     "output_type": "execute_result"
    }
   ],
   "source": [
    "'self.df.GetColuna{}(column)'.format('int'[0].upper()+'int'[1:])"
   ]
  },
  {
   "cell_type": "code",
   "execution_count": 3,
   "metadata": {},
   "outputs": [],
   "source": [
    "data = {'col_1': [1, 2, 3, 4], 'col_2': ['1', '2', '3', '4']}\n",
    "df = mc.dataframe(data)"
   ]
  },
  {
   "cell_type": "code",
   "execution_count": 4,
   "metadata": {},
   "outputs": [
    {
     "data": {
      "text/plain": [
       "{'col_1': [1, 2, 3, 4], 'col_2': ['1', '2', '3', '4']}"
      ]
     },
     "execution_count": 4,
     "metadata": {},
     "output_type": "execute_result"
    }
   ],
   "source": [
    "data"
   ]
  },
  {
   "cell_type": "code",
   "execution_count": 5,
   "metadata": {},
   "outputs": [],
   "source": [
    "df.insert(['alpha','beta','gama','delta'],'col_3')\n",
    "df.insert([1.1,2.2,3.3,4.4],'col_2')"
   ]
  },
  {
   "cell_type": "code",
   "execution_count": 6,
   "metadata": {},
   "outputs": [
    {
     "name": "stdout",
     "output_type": "stream",
     "text": [
      "|      index      |      col_1      |      col_2      |      col_3      \n",
      "|      0          |      1.0        |      1.1        |      alpha      \n",
      "|      1          |      2.0        |      2.2        |      beta       \n",
      "|      2          |      3.0        |      3.3        |      gama       \n",
      "|      3          |      4.0        |      4.4        |      delta      \n"
     ]
    }
   ],
   "source": [
    "df.show()"
   ]
  },
  {
   "cell_type": "markdown",
   "metadata": {},
   "source": [
    "# draw graphic of 2 columns"
   ]
  },
  {
   "cell_type": "code",
   "execution_count": 7,
   "metadata": {},
   "outputs": [
    {
     "data": {
      "image/png": "[encoded data removed]",
      "text/plain": [
       "<Figure size 432x288 with 1 Axes>"
      ]
     },
     "metadata": {
      "needs_background": "light"
     },
     "output_type": "display_data"
    }
   ],
   "source": [
    "df.plot('col_1', 'col_2')"
   ]
  },
  {
   "cell_type": "markdown",
   "metadata": {},
   "source": [
    "# show data from columns"
   ]
  },
  {
   "cell_type": "code",
   "execution_count": 9,
   "metadata": {},
   "outputs": [
    {
     "data": {
      "text/plain": [
       "[1.0, 2.0, 3.0, 4.0]"
      ]
     },
     "execution_count": 9,
     "metadata": {},
     "output_type": "execute_result"
    }
   ],
   "source": [
    "df.tolist('col_1')"
   ]
  },
  {
   "cell_type": "code",
   "execution_count": 10,
   "metadata": {},
   "outputs": [
    {
     "data": {
      "text/plain": [
       "[1.1, 2.2, 3.3, 4.4]"
      ]
     },
     "execution_count": 10,
     "metadata": {},
     "output_type": "execute_result"
    }
   ],
   "source": [
    "df.tolist('col_2')"
   ]
  },
  {
   "cell_type": "code",
   "execution_count": 11,
   "metadata": {},
   "outputs": [
    {
     "data": {
      "text/plain": [
       "['alpha', 'beta', 'gama', 'delta']"
      ]
     },
     "execution_count": 11,
     "metadata": {},
     "output_type": "execute_result"
    }
   ],
   "source": [
    "df.tolist('col_3')"
   ]
  },
  {
   "cell_type": "markdown",
   "metadata": {},
   "source": [
    "# insert row at end"
   ]
  },
  {
   "cell_type": "raw",
   "metadata": {},
   "source": [
    "row = {'col_1':[100,3],'col_2':[700.17,99],'col_3':['oj']}\n",
    "df.insertRow(row)"
   ]
  },
  {
   "cell_type": "markdown",
   "metadata": {},
   "source": [
    "# show data"
   ]
  },
  {
   "cell_type": "code",
   "execution_count": 12,
   "metadata": {},
   "outputs": [
    {
     "name": "stdout",
     "output_type": "stream",
     "text": [
      "[3.0, 4.0]\n",
      "[1.1]\n",
      "['gama', 'delta']\n",
      "{'col_1': [[1.0, 2.0]], 'col_2': [[1.1, 2.2]], 'col_3': [['alpha', 'beta']]}\n"
     ]
    }
   ],
   "source": [
    "print(df.locateCel([2,3],'col_1'))\n",
    "print(df.locateCel(0,'col_2'))\n",
    "print(df.locateCel([2,3],'col_3'))\n",
    "print(df.locateRow([0,1]))"
   ]
  },
  {
   "cell_type": "code",
   "execution_count": 13,
   "metadata": {},
   "outputs": [
    {
     "name": "stdout",
     "output_type": "stream",
     "text": [
      "|      index      |      col_1      |      col_2      |      col_3      \n",
      "|      0          |      1.0        |      1.1        |      alpha      \n",
      "|      1          |      2.0        |      2.2        |      beta       \n",
      "|      2          |      3.0        |      3.3        |      gama       \n",
      "|      3          |      4.0        |      4.4        |      delta      \n"
     ]
    }
   ],
   "source": [
    "df.show()"
   ]
  },
  {
   "cell_type": "markdown",
   "metadata": {},
   "source": [
    "# index"
   ]
  },
  {
   "cell_type": "code",
   "execution_count": 14,
   "metadata": {},
   "outputs": [],
   "source": [
    "df.toIndxCol('col_1')\n",
    "df.toIndxCol('col_3')\n",
    "#df.toIndxCol('col_4')"
   ]
  },
  {
   "cell_type": "code",
   "execution_count": 15,
   "metadata": {},
   "outputs": [
    {
     "data": {
      "text/plain": [
       "['col_1', 'col_3']"
      ]
     },
     "execution_count": 15,
     "metadata": {},
     "output_type": "execute_result"
    }
   ],
   "source": [
    "df.indexes"
   ]
  },
  {
   "cell_type": "markdown",
   "metadata": {},
   "source": [
    "# queries"
   ]
  },
  {
   "cell_type": "code",
   "execution_count": null,
   "metadata": {},
   "outputs": [],
   "source": [
    "print(df.Query_Valor([3,100],'col_1'))\n",
    "#print(df.Query_Valor(['z'],'col_3'))"
   ]
  },
  {
   "cell_type": "markdown",
   "metadata": {},
   "source": [
    "# test removal"
   ]
  },
  {
   "cell_type": "code",
   "execution_count": null,
   "metadata": {},
   "outputs": [],
   "source": [
    "df.shape"
   ]
  },
  {
   "cell_type": "code",
   "execution_count": null,
   "metadata": {},
   "outputs": [],
   "source": [
    "df.remove('col_1')"
   ]
  },
  {
   "cell_type": "code",
   "execution_count": null,
   "metadata": {},
   "outputs": [],
   "source": [
    "df.columns"
   ]
  },
  {
   "cell_type": "code",
   "execution_count": 59,
   "metadata": {},
   "outputs": [
    {
     "data": {
      "text/plain": [
       "[4, 4]"
      ]
     },
     "execution_count": 59,
     "metadata": {},
     "output_type": "execute_result"
    }
   ],
   "source": [
    "df.shape"
   ]
  },
  {
   "cell_type": "markdown",
   "metadata": {},
   "source": [
    "# test empty data initializer"
   ]
  },
  {
   "cell_type": "code",
   "execution_count": 35,
   "metadata": {},
   "outputs": [
    {
     "data": {
      "text/plain": [
       "{}"
      ]
     },
     "execution_count": 35,
     "metadata": {},
     "output_type": "execute_result"
    }
   ],
   "source": [
    "df = dataframe()\n",
    "df.columns"
   ]
  },
  {
   "cell_type": "code",
   "execution_count": 36,
   "metadata": {},
   "outputs": [],
   "source": [
    "df.insert(['davi','b','z','z'],'col_3')\n",
    "df.insert([2.3,3.14,1,2.0],'col_2')"
   ]
  },
  {
   "cell_type": "code",
   "execution_count": 37,
   "metadata": {},
   "outputs": [
    {
     "data": {
      "text/plain": [
       "{'col_3': 'str', 'col_2': 'dbl'}"
      ]
     },
     "execution_count": 37,
     "metadata": {},
     "output_type": "execute_result"
    }
   ],
   "source": [
    "df.columns"
   ]
  },
  {
   "cell_type": "markdown",
   "metadata": {},
   "source": [
    "# show methods"
   ]
  },
  {
   "cell_type": "code",
   "execution_count": 317,
   "metadata": {
    "scrolled": true
   },
   "outputs": [
    {
     "data": {
      "text/plain": [
       "['GetColunaDouble',\n",
       " 'GetColunaInt',\n",
       " 'GetColunaString',\n",
       " 'GetLinhaDouble',\n",
       " 'GetLinhaInt',\n",
       " 'GetLinhaString',\n",
       " 'GetNodeRowsDouble',\n",
       " 'GetNodeRowsInt',\n",
       " 'GetNodeRowsString',\n",
       " 'IndexarColunaDouble',\n",
       " 'IndexarColunaInt',\n",
       " 'IndexarColunaString',\n",
       " 'InserirLinhaDouble',\n",
       " 'InserirLinhaInt',\n",
       " 'InserirLinhaString',\n",
       " '__class__',\n",
       " '__delattr__',\n",
       " '__dict__',\n",
       " '__dir__',\n",
       " '__doc__',\n",
       " '__eq__',\n",
       " '__format__',\n",
       " '__ge__',\n",
       " '__getattribute__',\n",
       " '__gt__',\n",
       " '__hash__',\n",
       " '__init__',\n",
       " '__init_subclass__',\n",
       " '__instance_size__',\n",
       " '__le__',\n",
       " '__lt__',\n",
       " '__module__',\n",
       " '__ne__',\n",
       " '__new__',\n",
       " '__reduce__',\n",
       " '__reduce_ex__',\n",
       " '__repr__',\n",
       " '__setattr__',\n",
       " '__sizeof__',\n",
       " '__str__',\n",
       " '__subclasshook__',\n",
       " '__weakref__',\n",
       " 'coluna_int',\n",
       " 'insertColDbl',\n",
       " 'insertColInt',\n",
       " 'insertColStr',\n",
       " 'removeColDbl',\n",
       " 'removeColInt',\n",
       " 'removeColStr']"
      ]
     },
     "execution_count": 317,
     "metadata": {},
     "output_type": "execute_result"
    }
   ],
   "source": [
    "dir(dfbuild)"
   ]
  },
  {
   "cell_type": "code",
   "execution_count": 4,
   "metadata": {},
   "outputs": [
    {
     "data": {
      "text/plain": [
       "['GetColunaDouble',\n",
       " 'GetColunaInt',\n",
       " 'GetColunaString',\n",
       " 'GetLinhaDouble',\n",
       " 'GetLinhaInt',\n",
       " 'GetLinhaString',\n",
       " 'GetNodeRowsDouble',\n",
       " 'GetNodeRowsInt',\n",
       " 'GetNodeRowsString',\n",
       " 'IndexarColunaDouble',\n",
       " 'IndexarColunaInt',\n",
       " 'IndexarColunaString',\n",
       " 'InserirColunaDouble',\n",
       " 'InserirColunaInt',\n",
       " 'InserirColunaString',\n",
       " 'InserirLinhaDouble',\n",
       " 'InserirLinhaInt',\n",
       " 'InserirLinhaString',\n",
       " 'RemoverColunaDouble',\n",
       " 'RemoverColunaInt',\n",
       " 'RemoverColunaString',\n",
       " '__class__',\n",
       " '__delattr__',\n",
       " '__dict__',\n",
       " '__dir__',\n",
       " '__doc__',\n",
       " '__eq__',\n",
       " '__format__',\n",
       " '__ge__',\n",
       " '__getattribute__',\n",
       " '__gt__',\n",
       " '__hash__',\n",
       " '__init__',\n",
       " '__init_subclass__',\n",
       " '__instance_size__',\n",
       " '__le__',\n",
       " '__lt__',\n",
       " '__module__',\n",
       " '__ne__',\n",
       " '__new__',\n",
       " '__reduce__',\n",
       " '__reduce_ex__',\n",
       " '__repr__',\n",
       " '__setattr__',\n",
       " '__sizeof__',\n",
       " '__str__',\n",
       " '__subclasshook__',\n",
       " '__weakref__',\n",
       " 'coluna_int']"
      ]
     },
     "execution_count": 4,
     "metadata": {},
     "output_type": "execute_result"
    }
   ],
   "source": [
    "dir(DataFrame)"
   ]
  },
  {
   "cell_type": "markdown",
   "metadata": {},
   "source": [
    "# drafts"
   ]
  },
  {
   "cell_type": "raw",
   "metadata": {},
   "source": [
    "test = {'col_1': [[3, 2, 1, 0]],\n",
    " 'col_2': [[2.3, 3.14, 1.0, 2.0]],\n",
    " 'col_3': [['davi', 'b', 'z', 'z']]}"
   ]
  },
  {
   "cell_type": "raw",
   "metadata": {},
   "source": [
    "print (\"{:<15} {:<15} {:<15}\".format(' ','0','1'))\n",
    "#for i in range(3):\n",
    "    #print(i)\n",
    "\n",
    "for k, v in test.items():\n",
    "    #print(num)\n",
    "    print (\"{:<15} {:<15} {:<15}\".format(k, v[0][i],  v[0][i+1]))"
   ]
  },
  {
   "cell_type": "code",
   "execution_count": 248,
   "metadata": {},
   "outputs": [
    {
     "name": "stdout",
     "output_type": "stream",
     "text": [
      "index           col_1           col_2           col_3           \n",
      "0               3               2.3             davi            \n",
      "1               2               3.14            b               \n",
      "2               1               1.0             z               \n",
      "3               0               2.0             z               \n"
     ]
    }
   ],
   "source": [
    "print ('{:<15}'.format('index'), sep='', end =\" \")\n",
    "for header in test.keys():\n",
    "    print ('{:<15}'.format(header), sep='', end =\" \")\n",
    "print(end =\"\\n\")\n",
    "for i in range(len(test.items())+1):\n",
    "    print('{:<15}'.format(i), end =\" \")\n",
    "    for v in test.values():\n",
    "        print('{:<15}'.format(v[0][i]), end =\" \")\n",
    "    print(end =\"\\n\")"
   ]
  },
  {
   "cell_type": "code",
   "execution_count": 189,
   "metadata": {},
   "outputs": [
    {
     "data": {
      "text/plain": [
       "{'col_1': [[3, 2, 1, 0]],\n",
       " 'col_2': [[2.3, 3.14, 1.0, 2.0]],\n",
       " 'col_3': [['davi', 'b', 'z', 'z']]}"
      ]
     },
     "execution_count": 189,
     "metadata": {},
     "output_type": "execute_result"
    }
   ],
   "source": [
    "test"
   ]
  }
 ],
 "metadata": {
  "kernelspec": {
   "display_name": "Python 3",
   "language": "python",
   "name": "python3"
  },
  "language_info": {
   "codemirror_mode": {
    "name": "ipython",
    "version": 3
   },
   "file_extension": ".py",
   "mimetype": "text/x-python",
   "name": "python",
   "nbconvert_exporter": "python",
   "pygments_lexer": "ipython3",
   "version": "3.7.3"
  }
 },
 "nbformat": 4,
 "nbformat_minor": 2
}

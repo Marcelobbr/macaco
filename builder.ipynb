{
 "cells": [
  {
   "cell_type": "code",
   "execution_count": 5,
   "metadata": {},
   "outputs": [],
   "source": [
    "import ctypes\n",
    "from ctypes import *"
   ]
  },
  {
   "cell_type": "code",
   "execution_count": 7,
   "metadata": {},
   "outputs": [
    {
     "data": {
      "text/plain": [
       "['ARRAY',\n",
       " 'ArgumentError',\n",
       " 'Array',\n",
       " 'BigEndianStructure',\n",
       " 'CDLL',\n",
       " 'CFUNCTYPE',\n",
       " 'DEFAULT_MODE',\n",
       " 'DllCanUnloadNow',\n",
       " 'DllGetClassObject',\n",
       " 'FormatError',\n",
       " 'GetLastError',\n",
       " 'HRESULT',\n",
       " 'LibraryLoader',\n",
       " 'LittleEndianStructure',\n",
       " 'OleDLL',\n",
       " 'POINTER',\n",
       " 'PYFUNCTYPE',\n",
       " 'PyDLL',\n",
       " 'RTLD_GLOBAL',\n",
       " 'RTLD_LOCAL',\n",
       " 'SetPointerType',\n",
       " 'Structure',\n",
       " 'Union',\n",
       " 'WINFUNCTYPE',\n",
       " 'WinDLL',\n",
       " 'WinError',\n",
       " '_CFuncPtr',\n",
       " '_FUNCFLAG_CDECL',\n",
       " '_FUNCFLAG_PYTHONAPI',\n",
       " '_FUNCFLAG_STDCALL',\n",
       " '_FUNCFLAG_USE_ERRNO',\n",
       " '_FUNCFLAG_USE_LASTERROR',\n",
       " '_Pointer',\n",
       " '_SimpleCData',\n",
       " '__builtins__',\n",
       " '__cached__',\n",
       " '__doc__',\n",
       " '__file__',\n",
       " '__loader__',\n",
       " '__name__',\n",
       " '__package__',\n",
       " '__path__',\n",
       " '__spec__',\n",
       " '__version__',\n",
       " '_c_functype_cache',\n",
       " '_calcsize',\n",
       " '_cast',\n",
       " '_cast_addr',\n",
       " '_check_HRESULT',\n",
       " '_check_size',\n",
       " '_ctypes_version',\n",
       " '_dlopen',\n",
       " '_endian',\n",
       " '_memmove_addr',\n",
       " '_memset_addr',\n",
       " '_os',\n",
       " '_pointer_type_cache',\n",
       " '_reset_cache',\n",
       " '_string_at',\n",
       " '_string_at_addr',\n",
       " '_sys',\n",
       " '_win_functype_cache',\n",
       " '_wstring_at',\n",
       " '_wstring_at_addr',\n",
       " 'addressof',\n",
       " 'alignment',\n",
       " 'byref',\n",
       " 'c_bool',\n",
       " 'c_buffer',\n",
       " 'c_byte',\n",
       " 'c_char',\n",
       " 'c_char_p',\n",
       " 'c_double',\n",
       " 'c_float',\n",
       " 'c_int',\n",
       " 'c_int16',\n",
       " 'c_int32',\n",
       " 'c_int64',\n",
       " 'c_int8',\n",
       " 'c_long',\n",
       " 'c_longdouble',\n",
       " 'c_longlong',\n",
       " 'c_short',\n",
       " 'c_size_t',\n",
       " 'c_ssize_t',\n",
       " 'c_ubyte',\n",
       " 'c_uint',\n",
       " 'c_uint16',\n",
       " 'c_uint32',\n",
       " 'c_uint64',\n",
       " 'c_uint8',\n",
       " 'c_ulong',\n",
       " 'c_ulonglong',\n",
       " 'c_ushort',\n",
       " 'c_void_p',\n",
       " 'c_voidp',\n",
       " 'c_wchar',\n",
       " 'c_wchar_p',\n",
       " 'cast',\n",
       " 'cdll',\n",
       " 'create_string_buffer',\n",
       " 'create_unicode_buffer',\n",
       " 'get_errno',\n",
       " 'get_last_error',\n",
       " 'memmove',\n",
       " 'memset',\n",
       " 'oledll',\n",
       " 'pointer',\n",
       " 'py_object',\n",
       " 'pydll',\n",
       " 'pythonapi',\n",
       " 'resize',\n",
       " 'set_errno',\n",
       " 'set_last_error',\n",
       " 'sizeof',\n",
       " 'string_at',\n",
       " 'windll',\n",
       " 'wintypes',\n",
       " 'wstring_at']"
      ]
     },
     "execution_count": 7,
     "metadata": {},
     "output_type": "execute_result"
    }
   ],
   "source": [
    "dir(ctypes)"
   ]
  },
  {
   "cell_type": "code",
   "execution_count": null,
   "metadata": {},
   "outputs": [],
   "source": [
    "libc.printf"
   ]
  },
  {
   "cell_type": "raw",
   "metadata": {},
   "source": [
    "def main():\n",
    "    TestLib = ctypes.cdll.LoadLibrary('libhello.so')\n",
    "    print (TestLib.SampleAddInt(1, 2))\n",
    "\n",
    "if __name__ == '__main__':\n",
    "    main()"
   ]
  },
  {
   "cell_type": "code",
   "execution_count": 15,
   "metadata": {},
   "outputs": [
    {
     "ename": "OSError",
     "evalue": "[WinError 126] The specified module could not be found",
     "output_type": "error",
     "traceback": [
      "\u001b[1;31m---------------------------------------------------------------------------\u001b[0m",
      "\u001b[1;31mOSError\u001b[0m                                   Traceback (most recent call last)",
      "\u001b[1;32m<ipython-input-15-b0c4fc454e35>\u001b[0m in \u001b[0;36m<module>\u001b[1;34m\u001b[0m\n\u001b[1;32m----> 1\u001b[1;33m \u001b[0mTestLib\u001b[0m \u001b[1;33m=\u001b[0m \u001b[0mctypes\u001b[0m\u001b[1;33m.\u001b[0m\u001b[0mcdll\u001b[0m\u001b[1;33m.\u001b[0m\u001b[0mLoadLibrary\u001b[0m\u001b[1;33m(\u001b[0m\u001b[1;34m'libhello.so'\u001b[0m\u001b[1;33m)\u001b[0m\u001b[1;33m\u001b[0m\u001b[1;33m\u001b[0m\u001b[0m\n\u001b[0m\u001b[0;32m      2\u001b[0m \u001b[0mprint\u001b[0m \u001b[1;33m(\u001b[0m\u001b[0mTestLib\u001b[0m\u001b[1;33m.\u001b[0m\u001b[0mSampleAddInt\u001b[0m\u001b[1;33m(\u001b[0m\u001b[1;36m1\u001b[0m\u001b[1;33m,\u001b[0m \u001b[1;36m2\u001b[0m\u001b[1;33m)\u001b[0m\u001b[1;33m)\u001b[0m\u001b[1;33m\u001b[0m\u001b[1;33m\u001b[0m\u001b[0m\n",
      "\u001b[1;32mD:\\Users\\Marcelo\\Anaconda3\\lib\\ctypes\\__init__.py\u001b[0m in \u001b[0;36mLoadLibrary\u001b[1;34m(self, name)\u001b[0m\n\u001b[0;32m    432\u001b[0m \u001b[1;33m\u001b[0m\u001b[0m\n\u001b[0;32m    433\u001b[0m     \u001b[1;32mdef\u001b[0m \u001b[0mLoadLibrary\u001b[0m\u001b[1;33m(\u001b[0m\u001b[0mself\u001b[0m\u001b[1;33m,\u001b[0m \u001b[0mname\u001b[0m\u001b[1;33m)\u001b[0m\u001b[1;33m:\u001b[0m\u001b[1;33m\u001b[0m\u001b[1;33m\u001b[0m\u001b[0m\n\u001b[1;32m--> 434\u001b[1;33m         \u001b[1;32mreturn\u001b[0m \u001b[0mself\u001b[0m\u001b[1;33m.\u001b[0m\u001b[0m_dlltype\u001b[0m\u001b[1;33m(\u001b[0m\u001b[0mname\u001b[0m\u001b[1;33m)\u001b[0m\u001b[1;33m\u001b[0m\u001b[1;33m\u001b[0m\u001b[0m\n\u001b[0m\u001b[0;32m    435\u001b[0m \u001b[1;33m\u001b[0m\u001b[0m\n\u001b[0;32m    436\u001b[0m \u001b[0mcdll\u001b[0m \u001b[1;33m=\u001b[0m \u001b[0mLibraryLoader\u001b[0m\u001b[1;33m(\u001b[0m\u001b[0mCDLL\u001b[0m\u001b[1;33m)\u001b[0m\u001b[1;33m\u001b[0m\u001b[1;33m\u001b[0m\u001b[0m\n",
      "\u001b[1;32mD:\\Users\\Marcelo\\Anaconda3\\lib\\ctypes\\__init__.py\u001b[0m in \u001b[0;36m__init__\u001b[1;34m(self, name, mode, handle, use_errno, use_last_error)\u001b[0m\n\u001b[0;32m    354\u001b[0m \u001b[1;33m\u001b[0m\u001b[0m\n\u001b[0;32m    355\u001b[0m         \u001b[1;32mif\u001b[0m \u001b[0mhandle\u001b[0m \u001b[1;32mis\u001b[0m \u001b[1;32mNone\u001b[0m\u001b[1;33m:\u001b[0m\u001b[1;33m\u001b[0m\u001b[1;33m\u001b[0m\u001b[0m\n\u001b[1;32m--> 356\u001b[1;33m             \u001b[0mself\u001b[0m\u001b[1;33m.\u001b[0m\u001b[0m_handle\u001b[0m \u001b[1;33m=\u001b[0m \u001b[0m_dlopen\u001b[0m\u001b[1;33m(\u001b[0m\u001b[0mself\u001b[0m\u001b[1;33m.\u001b[0m\u001b[0m_name\u001b[0m\u001b[1;33m,\u001b[0m \u001b[0mmode\u001b[0m\u001b[1;33m)\u001b[0m\u001b[1;33m\u001b[0m\u001b[1;33m\u001b[0m\u001b[0m\n\u001b[0m\u001b[0;32m    357\u001b[0m         \u001b[1;32melse\u001b[0m\u001b[1;33m:\u001b[0m\u001b[1;33m\u001b[0m\u001b[1;33m\u001b[0m\u001b[0m\n\u001b[0;32m    358\u001b[0m             \u001b[0mself\u001b[0m\u001b[1;33m.\u001b[0m\u001b[0m_handle\u001b[0m \u001b[1;33m=\u001b[0m \u001b[0mhandle\u001b[0m\u001b[1;33m\u001b[0m\u001b[1;33m\u001b[0m\u001b[0m\n",
      "\u001b[1;31mOSError\u001b[0m: [WinError 126] The specified module could not be found"
     ]
    }
   ],
   "source": [
    "TestLib = ctypes.cdll.LoadLibrary('libhello.so')\n",
    "print (TestLib.SampleAddInt(1, 2))\n"
   ]
  },
  {
   "cell_type": "code",
   "execution_count": null,
   "metadata": {},
   "outputs": [],
   "source": []
  }
 ],
 "metadata": {
  "kernelspec": {
   "display_name": "Python 3",
   "language": "python",
   "name": "python3"
  },
  "language_info": {
   "codemirror_mode": {
    "name": "ipython",
    "version": 3
   },
   "file_extension": ".py",
   "mimetype": "text/x-python",
   "name": "python",
   "nbconvert_exporter": "python",
   "pygments_lexer": "ipython3",
   "version": "3.7.1"
  }
 },
 "nbformat": 4,
 "nbformat_minor": 2
}

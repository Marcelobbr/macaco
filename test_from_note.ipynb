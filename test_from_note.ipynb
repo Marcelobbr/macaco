{
 "cells": [
  {
   "cell_type": "markdown",
   "metadata": {},
   "source": [
    "# notebook description\n",
    "This notebook is similar to the test_from_macaco.ipynb, but the methods are built inside the notebook. It is a better alternative to prototype new methods."
   ]
  },
  {
   "cell_type": "markdown",
   "metadata": {},
   "source": [
    "# build methods"
   ]
  },
  {
   "cell_type": "code",
   "execution_count": 15,
   "metadata": {},
   "outputs": [
    {
     "name": "stdout",
     "output_type": "stream",
     "text": [
      "The autoreload extension is already loaded. To reload it, use:\n",
      "  %reload_ext autoreload\n"
     ]
    }
   ],
   "source": [
    "%load_ext autoreload\n",
    "%reload_ext autoreload\n",
    "from dfbuild import *\n",
    "import matplotlib.pyplot as plt\n",
    "\n",
    "class dataframe():\n",
    "    def __init__(self,initializer=None):\n",
    "        self.df      = dfbuild()\n",
    "        self.columns = {}\n",
    "        self.dimensions   = [0,0]\n",
    "        self.indexes = []\n",
    "\n",
    "        if initializer != None:\n",
    "            for col in initializer:\n",
    "                self.insert(str(col), initializer[col])\n",
    "\n",
    "    def insert(self,column,  array_values):\n",
    "        for col_type in ['int', 'dbl']:\n",
    "            if col_type == 'dbl':\n",
    "                inst_type = '(int,float)'\n",
    "            else: inst_type = col_type\n",
    "            \n",
    "            if all(isinstance(x, eval(inst_type)) for x in array_values):\n",
    "                eval('self.df.insertCol{}(column,  array_values)'.format(col_type[0].upper()+col_type[1:]))\n",
    "                self.columns[column] = col_type\n",
    "        \n",
    "        col_type = 'str'\n",
    "        if any(isinstance(x, eval(col_type)) for x in array_values):\n",
    "            eval('self.df.insertCol{}(column,  array_values)'.format(col_type[0].upper()+col_type[1:]))\n",
    "            self.columns[column]  = col_type\n",
    "            \n",
    "        if self.dimensions[0] == 0 and self.dimensions[1] == 0:\n",
    "            self.dimensions[0] = len(array_values)\n",
    "        self.dimensions[1] = self.dimensions[1] + 1\n",
    "\n",
    "    def remove(self,column):\n",
    "        for col_type in ['int', 'dbl', 'str']:\n",
    "            if self.columns[column] == col_type:\n",
    "                eval('self.df.removeCol{}(column,  [])'.format(col_type[0].upper()+col_type[1:]))\n",
    "                self.columns.pop(column)\n",
    "                self.dimensions[1] = self.dimensions[1] - 1\n",
    "                break\n",
    "\n",
    "    def toIndxCol(self, column):\n",
    "        for col_type in ['int', 'dbl', 'str']:\n",
    "            if self.columns[column] == col_type:\n",
    "                eval('self.df.toIndxCol{}(column, [])'.format(col_type[0].upper()+col_type[1:]))\n",
    "                if column not in self.indexes:\n",
    "                    self.indexes.append(column)\n",
    "                \n",
    "    def tolist(self,column):\n",
    "        for col_type in ['int', 'dbl', 'str']:\n",
    "            if self.columns[column] == col_type:\n",
    "                column_tolist = eval('self.df.locateCol{}(column)'.format(col_type[0].upper()+col_type[1:]))\n",
    "                return column_tolist\n",
    "\n",
    "    def locateCel(self,column,  loc_row):\n",
    "        loc_rows = []\n",
    "        if type(loc_row) != int:\n",
    "            loc_rows = list(loc_row)\n",
    "        else:\n",
    "            loc_rows.append(loc_row)\n",
    "        for col_type in ['int', 'dbl', 'str']:\n",
    "            if self.columns[column] == col_type:\n",
    "                cel_val = eval('self.df.locateRow{}(column, loc_rows)'.format(col_type[0].upper()+col_type[1:]))\n",
    "                return cel_val\n",
    "\n",
    "    def locateRow(self, loc_row):\n",
    "        row_query = {}\n",
    "        for c in self.columns:\n",
    "            row_query[c] = []\n",
    "        for column in self.columns:\n",
    "            row_query[column].append(self.locateCel(column,  loc_row))\n",
    "        return row_query    \n",
    "\n",
    "    #not working\n",
    "    def insertRow(self,value):\n",
    "        num_loc_rows = [len(value[i]) for i in value][0]\n",
    "        for column in self.columns:\n",
    "            for col_type in ['int', 'dbl', 'str']:\n",
    "                if self.columns[column] == col_type:\n",
    "                    eval('self.df.insertRow{}(column, value[column])'.format(col_type[0].upper()+col_type[1:]))\n",
    "        self.dimensions[0] += num_loc_rows\n",
    "\n",
    "    #not working\n",
    "    def Query_Valor(self, val,column):\n",
    "        for col_type in ['int', 'dbl', 'str']:\n",
    "            if self.columns[column] == col_type:\n",
    "                return eval('self.df.GetNodeRows{}(column, val)'.format(col_type[0].upper()+col_type[1:]))\n",
    "\n",
    "    def show(self):\n",
    "        data_all = self.locateRow(range(0,self.dimensions[0]))\n",
    "        print ('|      {:<10}'.format('index'), sep='', end =\" \")\n",
    "        for header in data_all.keys():\n",
    "            print ('|      {:<10}'.format(header), sep='', end =\" \")\n",
    "        print(end =\"\\n\")\n",
    "        for i in range(len(data_all.items())+1):\n",
    "            print('|      {:<10}'.format(' '), sep='', end =\" \")\n",
    "        print(end =\"\\n\")\n",
    "        for i in range(len(data_all.items())+1):\n",
    "            print('|      {:<10}'.format(i), end =\" \")\n",
    "            for v in data_all.values():\n",
    "                print('|      {:<10}'.format(v[0][i]), end =\" \")\n",
    "            print(end =\"\\n\")  \n",
    "            \n",
    "    def plot(self, a, b, how=\"lineplot\"):\n",
    "        if self.columns[a] in ['int', 'dbl'] and self.columns[b] in ['int', 'dbl']:\n",
    "            list_a = self.tolist(a)\n",
    "            list_b = self.tolist(b)\n",
    "            if how == 'lineplot':\n",
    "                plt.plot(list_a,list_b)\n",
    "            elif how == 'scatterplot':\n",
    "                plt.scatter(list_a,list_b)\n",
    "            else:\n",
    "                raise ValueError('Please choose a valid plot type.')\n",
    "        else:\n",
    "            raise ValueError('Some of your selected columns has string type.')"
   ]
  },
  {
   "cell_type": "markdown",
   "metadata": {},
   "source": [
    "# show methods"
   ]
  },
  {
   "cell_type": "code",
   "execution_count": 16,
   "metadata": {
    "scrolled": true
   },
   "outputs": [
    {
     "name": "stdout",
     "output_type": "stream",
     "text": [
      "['GetNodeRowsDbl', 'GetNodeRowsInt', 'GetNodeRowsStr']\n",
      "['__weakref__', 'col_int', 'insertColDbl', 'insertColInt', 'insertColStr', 'insertRowDbl', 'insertRowInt', 'insertRowStr', 'locateColDbl', 'locateColInt', 'locateColStr', 'locateRowDbl', 'locateRowInt', 'locateRowStr', 'removeColDbl', 'removeColInt', 'removeColStr', 'toIndxColDbl', 'toIndxColInt', 'toIndxColStr']\n"
     ]
    }
   ],
   "source": [
    "print(dir(dfbuild)[:3])\n",
    "print(dir(dfbuild)[-20:])"
   ]
  },
  {
   "cell_type": "markdown",
   "metadata": {},
   "source": [
    "# test empty data initializer"
   ]
  },
  {
   "cell_type": "code",
   "execution_count": 17,
   "metadata": {},
   "outputs": [
    {
     "data": {
      "text/plain": [
       "{}"
      ]
     },
     "execution_count": 17,
     "metadata": {},
     "output_type": "execute_result"
    }
   ],
   "source": [
    "df = dataframe()\n",
    "df.columns"
   ]
  },
  {
   "cell_type": "code",
   "execution_count": 18,
   "metadata": {},
   "outputs": [],
   "source": [
    "df.insert('0', ['alpha','beta','gama','delta'])\n",
    "df.insert('1' ,[1.1,3.3,2.2,4.4])"
   ]
  },
  {
   "cell_type": "code",
   "execution_count": 19,
   "metadata": {},
   "outputs": [
    {
     "data": {
      "text/plain": [
       "{'0': 'str', '1': 'dbl'}"
      ]
     },
     "execution_count": 19,
     "metadata": {},
     "output_type": "execute_result"
    }
   ],
   "source": [
    "df.columns"
   ]
  },
  {
   "cell_type": "code",
   "execution_count": 20,
   "metadata": {},
   "outputs": [
    {
     "name": "stdout",
     "output_type": "stream",
     "text": [
      "|      index      |      0          |      1          \n",
      "|                 |                 |                 \n",
      "|      0          |      alpha      |      1.1        \n",
      "|      1          |      beta       |      3.3        \n",
      "|      2          |      gama       |      2.2        \n"
     ]
    }
   ],
   "source": [
    "df.show()"
   ]
  },
  {
   "cell_type": "markdown",
   "metadata": {},
   "source": [
    "# test column insertion"
   ]
  },
  {
   "cell_type": "code",
   "execution_count": 21,
   "metadata": {},
   "outputs": [],
   "source": [
    "initial_columns = {'0': [1, 2, 3, 4], '1': ['1', '2', '3', '4'], '2': ['alpha','beta','gama','delta']}\n",
    "df = dataframe(initial_columns)\n",
    "#df = dataframe()\n",
    "df.insert('1', [1.1,3.3,2.2,4.4])"
   ]
  },
  {
   "cell_type": "code",
   "execution_count": 22,
   "metadata": {},
   "outputs": [
    {
     "name": "stdout",
     "output_type": "stream",
     "text": [
      "|      index      |      0          |      1          |      2          \n",
      "|                 |                 |                 |                 \n",
      "|      0          |      1.0        |      1.1        |      alpha      \n",
      "|      1          |      2.0        |      3.3        |      beta       \n",
      "|      2          |      3.0        |      2.2        |      gama       \n",
      "|      3          |      4.0        |      4.4        |      delta      \n"
     ]
    }
   ],
   "source": [
    "df.show()"
   ]
  },
  {
   "cell_type": "markdown",
   "metadata": {},
   "source": [
    "# draw graphic of 2 columns"
   ]
  },
  {
   "cell_type": "markdown",
   "metadata": {},
   "source": [
    "test with standard mode (lineplot)"
   ]
  },
  {
   "cell_type": "code",
   "execution_count": 23,
   "metadata": {
    "scrolled": true
   },
   "outputs": [
    {
     "data": {
      "image/png": "[encoded data removed]",
      "text/plain": [
       "<Figure size 432x288 with 1 Axes>"
      ]
     },
     "metadata": {
      "needs_background": "light"
     },
     "output_type": "display_data"
    }
   ],
   "source": [
    "df.plot('0', '1')"
   ]
  },
  {
   "cell_type": "markdown",
   "metadata": {},
   "source": [
    "test with scatterplot mode"
   ]
  },
  {
   "cell_type": "code",
   "execution_count": 10,
   "metadata": {
    "scrolled": true
   },
   "outputs": [
    {
     "data": {
      "image/png": "[encoded data removed]",
      "text/plain": [
       "<Figure size 432x288 with 1 Axes>"
      ]
     },
     "metadata": {
      "needs_background": "light"
     },
     "output_type": "display_data"
    }
   ],
   "source": [
    "df.plot('0', '1', how='scatterplot')"
   ]
  },
  {
   "cell_type": "markdown",
   "metadata": {},
   "source": [
    "output error if tries to plot list of strings "
   ]
  },
  {
   "cell_type": "markdown",
   "metadata": {
    "scrolled": true
   },
   "source": [
    "df.plot('0', '2')"
   ]
  },
  {
   "cell_type": "markdown",
   "metadata": {},
   "source": [
    "# show data from columns"
   ]
  },
  {
   "cell_type": "code",
   "execution_count": 11,
   "metadata": {},
   "outputs": [
    {
     "data": {
      "text/plain": [
       "[1.0, 2.0, 3.0, 4.0]"
      ]
     },
     "execution_count": 11,
     "metadata": {},
     "output_type": "execute_result"
    }
   ],
   "source": [
    "df.tolist('0')"
   ]
  },
  {
   "cell_type": "code",
   "execution_count": 12,
   "metadata": {},
   "outputs": [
    {
     "data": {
      "text/plain": [
       "[1.1, 3.3, 2.2, 4.4]"
      ]
     },
     "execution_count": 12,
     "metadata": {},
     "output_type": "execute_result"
    }
   ],
   "source": [
    "df.tolist('1')"
   ]
  },
  {
   "cell_type": "code",
   "execution_count": 13,
   "metadata": {},
   "outputs": [
    {
     "data": {
      "text/plain": [
       "['alpha', 'beta', 'gama', 'delta']"
      ]
     },
     "execution_count": 13,
     "metadata": {},
     "output_type": "execute_result"
    }
   ],
   "source": [
    "df.tolist('2')"
   ]
  },
  {
   "cell_type": "markdown",
   "metadata": {},
   "source": [
    "# insert row at end\n",
    "broken"
   ]
  },
  {
   "cell_type": "raw",
   "metadata": {},
   "source": [
    "row = {'col_1':[100,3],'col_2':[700.17,99],'col_3':['oj']}\n",
    "df.insertRow(row)"
   ]
  },
  {
   "cell_type": "markdown",
   "metadata": {},
   "source": [
    "# show data"
   ]
  },
  {
   "cell_type": "code",
   "execution_count": 14,
   "metadata": {},
   "outputs": [
    {
     "name": "stdout",
     "output_type": "stream",
     "text": [
      "[3.0, 4.0]\n",
      "[1.1]\n",
      "['gama', 'delta']\n",
      "{'0': [[1.0, 2.0]], '1': [[1.1, 3.3]], '2': [['alpha', 'beta']]}\n"
     ]
    }
   ],
   "source": [
    "print(df.locateCel('0', [2,3]))\n",
    "print(df.locateCel('1',0))\n",
    "print(df.locateCel('2',[2,3]))\n",
    "print(df.locateRow([0,1]))"
   ]
  },
  {
   "cell_type": "code",
   "execution_count": 15,
   "metadata": {},
   "outputs": [
    {
     "name": "stdout",
     "output_type": "stream",
     "text": [
      "|      index      |      0          |      1          |      2          \n",
      "|                 |                 |                 |                 \n",
      "|      0          |      1.0        |      1.1        |      alpha      \n",
      "|      1          |      2.0        |      3.3        |      beta       \n",
      "|      2          |      3.0        |      2.2        |      gama       \n",
      "|      3          |      4.0        |      4.4        |      delta      \n"
     ]
    }
   ],
   "source": [
    "df.show()"
   ]
  },
  {
   "cell_type": "markdown",
   "metadata": {},
   "source": [
    "# index"
   ]
  },
  {
   "cell_type": "code",
   "execution_count": 28,
   "metadata": {},
   "outputs": [],
   "source": [
    "for column in ['0', '1']:\n",
    "    df.toIndxCol(column)\n",
    "#df.toIndxCol('0')\n",
    "#df.toIndxCol('1')\n",
    "#df.toIndxCol('2')"
   ]
  },
  {
   "cell_type": "code",
   "execution_count": 29,
   "metadata": {},
   "outputs": [
    {
     "data": {
      "text/plain": [
       "['0', '1']"
      ]
     },
     "execution_count": 29,
     "metadata": {},
     "output_type": "execute_result"
    }
   ],
   "source": [
    "df.indexes"
   ]
  },
  {
   "cell_type": "markdown",
   "metadata": {},
   "source": [
    "# queries\n",
    "broken"
   ]
  },
  {
   "cell_type": "raw",
   "metadata": {},
   "source": [
    "print(df.Query_Valor([3,100],'col_1'))\n",
    "#print(df.Query_Valor(['z'],'col_3'))"
   ]
  },
  {
   "cell_type": "markdown",
   "metadata": {},
   "source": [
    "# test removal"
   ]
  },
  {
   "cell_type": "code",
   "execution_count": 18,
   "metadata": {},
   "outputs": [
    {
     "data": {
      "text/plain": [
       "[4, 4]"
      ]
     },
     "execution_count": 18,
     "metadata": {},
     "output_type": "execute_result"
    }
   ],
   "source": [
    "df.dimensions"
   ]
  },
  {
   "cell_type": "code",
   "execution_count": 19,
   "metadata": {},
   "outputs": [],
   "source": [
    "df.remove('0')"
   ]
  },
  {
   "cell_type": "code",
   "execution_count": 20,
   "metadata": {},
   "outputs": [
    {
     "data": {
      "text/plain": [
       "{'1': 'dbl', '2': 'str'}"
      ]
     },
     "execution_count": 20,
     "metadata": {},
     "output_type": "execute_result"
    }
   ],
   "source": [
    "df.columns"
   ]
  },
  {
   "cell_type": "code",
   "execution_count": 21,
   "metadata": {},
   "outputs": [
    {
     "data": {
      "text/plain": [
       "[4, 3]"
      ]
     },
     "execution_count": 21,
     "metadata": {},
     "output_type": "execute_result"
    }
   ],
   "source": [
    "df.dimensions"
   ]
  },
  {
   "cell_type": "markdown",
   "metadata": {},
   "source": [
    "# drafts"
   ]
  },
  {
   "cell_type": "raw",
   "metadata": {},
   "source": [
    "test = {'col_1': [[3, 2, 1, 0]],\n",
    " 'col_2': [[2.3, 3.14, 1.0, 2.0]],\n",
    " 'col_3': [['davi', 'b', 'z', 'z']]}"
   ]
  },
  {
   "cell_type": "raw",
   "metadata": {},
   "source": [
    "print (\"{:<15} {:<15} {:<15}\".format(' ','0','1'))\n",
    "#for i in range(3):\n",
    "    #print(i)\n",
    "\n",
    "for k, v in test.items():\n",
    "    #print(num)\n",
    "    print (\"{:<15} {:<15} {:<15}\".format(k, v[0][i],  v[0][i+1]))"
   ]
  },
  {
   "cell_type": "raw",
   "metadata": {},
   "source": [
    "print ('{:<15}'.format('index'), sep='', end =\" \")\n",
    "for header in test.keys():\n",
    "    print ('{:<15}'.format(header), sep='', end =\" \")\n",
    "print(end =\"\\n\")\n",
    "for i in range(len(test.items())+1):\n",
    "    print('{:<15}'.format(i), end =\" \")\n",
    "    for v in test.values():\n",
    "        print('{:<15}'.format(v[0][i]), end =\" \")\n",
    "    print(end =\"\\n\")"
   ]
  },
  {
   "cell_type": "raw",
   "metadata": {},
   "source": [
    "test"
   ]
  }
 ],
 "metadata": {
  "kernelspec": {
   "display_name": "Python 3",
   "language": "python",
   "name": "python3"
  },
  "language_info": {
   "codemirror_mode": {
    "name": "ipython",
    "version": 3
   },
   "file_extension": ".py",
   "mimetype": "text/x-python",
   "name": "python",
   "nbconvert_exporter": "python",
   "pygments_lexer": "ipython3",
   "version": "3.7.3"
  }
 },
 "nbformat": 4,
 "nbformat_minor": 2
}

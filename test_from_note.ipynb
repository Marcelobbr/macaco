{
 "cells": [
  {
   "cell_type": "markdown",
   "metadata": {},
   "source": [
    "# notebook description\n",
    "This notebook is similar to the test_from_macaco.ipynb, but the methods are built inside the notebook. It is a better alternative to prototype new methods."
   ]
  },
  {
   "cell_type": "markdown",
   "metadata": {},
   "source": [
    "# build methods"
   ]
  },
  {
   "cell_type": "code",
   "execution_count": 377,
   "metadata": {},
   "outputs": [
    {
     "name": "stdout",
     "output_type": "stream",
     "text": [
      "The autoreload extension is already loaded. To reload it, use:\n",
      "  %reload_ext autoreload\n"
     ]
    }
   ],
   "source": [
    "%load_ext autoreload\n",
    "%reload_ext autoreload\n",
    "from dfbuild import *\n",
    "import matplotlib.pyplot as plt\n",
    "\n",
    "class dataframe():\n",
    "    def __init__(self,initializer=None):\n",
    "        self.df      = dfbuild()\n",
    "        self.columns_dict = {}\n",
    "        self.dimensions   = [0,0]\n",
    "        self.indexes = []\n",
    "\n",
    "        if initializer != None:\n",
    "            for col in initializer:\n",
    "                self.insert(str(col), initializer[col])\n",
    "\n",
    "    def summary(self, info=\"info\"):\n",
    "        if info == \"columns\":\n",
    "            result = list(self.columns_dict.keys())\n",
    "            return result\n",
    "        if info == \"dtypes\":\n",
    "            for k, v in self.columns_dict.items():\n",
    "                print('{:<5}'.format(k), v)\n",
    "        if info == \"info\":\n",
    "            print(\"RangeIndex: {} entries, 0 to {}\".format(self.dimensions[0], self.dimensions[0]-1))\n",
    "            print(\"Data columns (total {} columns):\".format(self.dimensions[1]))\n",
    "            for k, v in self.columns_dict.items():\n",
    "                print('{}      {} non-null      '.format(k, sum(x is not None for x in self.tolist(k))), v)\n",
    "            print('dtypes:', end=' ')\n",
    "            for v in set(self.columns_dict.values()):\n",
    "                print(v, end=', ')\n",
    "                \n",
    "    def check_size(self, array_values):\n",
    "        if self.dimensions[0] != 0 and self.dimensions[0] != len(array_values):\n",
    "            raise ValueError(\"Column size is not compatible with dataframe size.\")        \n",
    "    \n",
    "    def insert(self,column,  array_values):\n",
    "        self.check_size(array_values)\n",
    "        for col_type in ['int', 'dbl']:\n",
    "            if col_type == 'dbl':\n",
    "                inst_type = '(int,float)'\n",
    "            else: inst_type = col_type\n",
    "            \n",
    "            if all(isinstance(x, eval(inst_type)) for x in array_values):\n",
    "                eval('self.df.insertCol{}(column,  array_values)'.format(col_type[0].upper()+col_type[1:]))\n",
    "                self.columns_dict[column] = col_type\n",
    "        \n",
    "        col_type = 'str'\n",
    "        if any(isinstance(x, eval(col_type)) for x in array_values):\n",
    "            eval('self.df.insertCol{}(column,  array_values)'.format(col_type[0].upper()+col_type[1:]))\n",
    "            self.columns_dict[column]  = col_type\n",
    "            \n",
    "        if self.dimensions[0] == 0 and self.dimensions[1] == 0:\n",
    "            self.dimensions[0] = len(array_values)\n",
    "        self.dimensions[1] = self.dimensions[1] + 1\n",
    "\n",
    "    def remove(self,column):\n",
    "        for col_type in ['int', 'dbl', 'str']:\n",
    "            if self.columns_dict[column] == col_type:\n",
    "                eval('self.df.removeCol{}(column)'.format(col_type[0].upper()+col_type[1:]))\n",
    "                self.columns_dict.pop(column)\n",
    "                self.dimensions[1] = self.dimensions[1] - 1\n",
    "                break\n",
    "\n",
    "    def toIndxCol(self, column):\n",
    "        for col_type in ['int', 'dbl', 'str']:\n",
    "            if self.columns_dict[column] == col_type:\n",
    "                eval('self.df.toIndxCol{}(column)'.format(col_type[0].upper()+col_type[1:]))\n",
    "                if column not in self.indexes:\n",
    "                    self.indexes.append(column)\n",
    "                \n",
    "    def tolist(self,column):\n",
    "        for col_type in ['int', 'dbl', 'str']:\n",
    "            if self.columns_dict[column] == col_type:\n",
    "                column_tolist = eval('self.df.locateCol{}(column)'.format(col_type[0].upper()+col_type[1:]))\n",
    "                return column_tolist\n",
    "\n",
    "    def locateCel(self,column,  loc_row):\n",
    "        loc_rows = []\n",
    "        if type(loc_row) != int:\n",
    "            loc_rows = list(loc_row)\n",
    "        else:\n",
    "            loc_rows.append(loc_row)\n",
    "        for col_type in ['int', 'dbl', 'str']:\n",
    "            if self.columns_dict[column] == col_type:\n",
    "                cel_val = eval('self.df.locateRow{}(column, loc_rows)'.format(col_type[0].upper()+col_type[1:]))\n",
    "                return cel_val\n",
    "\n",
    "    def locateRow(self, loc_row):\n",
    "        row_query = {}\n",
    "        for c in self.columns_dict:\n",
    "            row_query[c] = []\n",
    "        for column in self.columns_dict:\n",
    "            row_query[column].append(self.locateCel(column,  loc_row))\n",
    "        return row_query    \n",
    "\n",
    "    def show(self, head = 10, col_max = 5):\n",
    "        data_all = self.locateRow(range(0,self.dimensions[0]))\n",
    "        print('dataframe is limited to {} rows and {} columns.'.format(head, col_max),'\\n')\n",
    "        print ('|      {:<10}'.format('index'), sep='', end =\" \")\n",
    "        count = 0\n",
    "        for header in data_all.keys():\n",
    "            print ('|      {:<10}'.format(header), sep='', end =\" \")\n",
    "            count += 1\n",
    "            if count == col_max: break\n",
    "        print(end =\"\\n\")\n",
    "        count = 0\n",
    "        for i in range(len(data_all.items())+1):\n",
    "            print('|      {:<10}'.format(' '), sep='', end =\" \")\n",
    "            count += 1\n",
    "            if count == col_max: break\n",
    "        print(end =\"\\n\")\n",
    "        row_count = 0\n",
    "        \n",
    "        for i in range(min(self.dimensions[0], head)):\n",
    "            print('|      {:<10}'.format(i), end =\" \")\n",
    "            count = 0\n",
    "            for v in data_all.values():\n",
    "                print('|      {:<10}'.format(v[0][i]), end =\" \")\n",
    "                count += 1\n",
    "                if count == col_max: break\n",
    "            print(end =\"\\n\")  \n",
    "            \n",
    "    def plot(self, a, b, how=\"lineplot\"):\n",
    "        if self.columns_dict[a] in ['int', 'dbl'] and self.columns_dict[b] in ['int', 'dbl']:\n",
    "            list_a = self.tolist(a)\n",
    "            list_b = self.tolist(b)\n",
    "            if how == 'lineplot':\n",
    "                plt.plot(list_a,list_b)\n",
    "            elif how == 'scatterplot':\n",
    "                plt.scatter(list_a,list_b)\n",
    "            else:\n",
    "                raise ValueError('Please choose a valid plot type.')\n",
    "        else:\n",
    "            raise ValueError('Some of your selected columns has string type.')"
   ]
  },
  {
   "cell_type": "markdown",
   "metadata": {},
   "source": [
    "# show methods"
   ]
  },
  {
   "cell_type": "code",
   "execution_count": 404,
   "metadata": {
    "scrolled": true
   },
   "outputs": [
    {
     "name": "stdout",
     "output_type": "stream",
     "text": [
      "['__sizeof__', '__str__', '__subclasshook__', '__weakref__', 'cInt', 'insertColDbl', 'insertColInt', 'insertColStr', 'locateColDbl', 'locateColInt', 'locateColStr', 'locateRowDbl', 'locateRowInt', 'locateRowStr', 'removeColDbl', 'removeColInt', 'removeColStr', 'toIndxColDbl', 'toIndxColInt', 'toIndxColStr']\n"
     ]
    }
   ],
   "source": [
    "print(dir(dfbuild)[-20:])"
   ]
  },
  {
   "cell_type": "markdown",
   "metadata": {},
   "source": [
    "# test empty data initializer"
   ]
  },
  {
   "cell_type": "code",
   "execution_count": 379,
   "metadata": {},
   "outputs": [
    {
     "data": {
      "text/plain": [
       "{}"
      ]
     },
     "execution_count": 379,
     "metadata": {},
     "output_type": "execute_result"
    }
   ],
   "source": [
    "df = dataframe()\n",
    "df.columns_dict"
   ]
  },
  {
   "cell_type": "code",
   "execution_count": 380,
   "metadata": {},
   "outputs": [],
   "source": [
    "items = [0.9,1.1,3.3,2.2,4.4,5.5,6.6,7.7,8.8,9.9]\n",
    "df.insert('0', ['alpha','beta','gama','delta', 'eta', 'phi', 'kappa', 'mu', 'pi', 'sigma'])\n",
    "df.insert('1' ,items)\n",
    "random.shuffle(items)\n",
    "df.insert('2' ,items)\n",
    "random.shuffle(items)\n",
    "df.insert('3' ,items)\n",
    "random.shuffle(items)\n",
    "df.insert('4' ,items)\n",
    "random.shuffle(items)\n",
    "df.insert('5' ,items)\n",
    "random.shuffle(items)\n",
    "df.insert('6' ,items)"
   ]
  },
  {
   "cell_type": "markdown",
   "metadata": {},
   "source": [
    "# summarize data"
   ]
  },
  {
   "cell_type": "code",
   "execution_count": 381,
   "metadata": {},
   "outputs": [
    {
     "name": "stdout",
     "output_type": "stream",
     "text": [
      "['0', '1', '2', '3', '4', '5', '6']\n"
     ]
    }
   ],
   "source": [
    "print(df.summary('columns'))"
   ]
  },
  {
   "cell_type": "code",
   "execution_count": 382,
   "metadata": {},
   "outputs": [
    {
     "name": "stdout",
     "output_type": "stream",
     "text": [
      "0     str\n",
      "1     dbl\n",
      "2     dbl\n",
      "3     dbl\n",
      "4     dbl\n",
      "5     dbl\n",
      "6     dbl\n"
     ]
    }
   ],
   "source": [
    "df.summary('dtypes')"
   ]
  },
  {
   "cell_type": "code",
   "execution_count": 383,
   "metadata": {},
   "outputs": [
    {
     "name": "stdout",
     "output_type": "stream",
     "text": [
      "RangeIndex: 10 entries, 0 to 9\n",
      "Data columns (total 7 columns):\n",
      "0      10 non-null       str\n",
      "1      10 non-null       dbl\n",
      "2      10 non-null       dbl\n",
      "3      10 non-null       dbl\n",
      "4      10 non-null       dbl\n",
      "5      10 non-null       dbl\n",
      "6      10 non-null       dbl\n",
      "dtypes: str, dbl, "
     ]
    }
   ],
   "source": [
    "df.summary('info')"
   ]
  },
  {
   "cell_type": "code",
   "execution_count": 384,
   "metadata": {},
   "outputs": [
    {
     "name": "stdout",
     "output_type": "stream",
     "text": [
      "dataframe is limited to 10 rows and 5 columns. \n",
      "\n",
      "|      index      |      0          |      1          |      2          |      3          |      4          \n",
      "|                 |                 |                 |                 |                 \n",
      "|      0          |      alpha      |      0.9        |      6.6        |      3.3        |      7.7        \n",
      "|      1          |      beta       |      1.1        |      2.2        |      1.1        |      0.9        \n",
      "|      2          |      gama       |      3.3        |      1.1        |      0.9        |      4.4        \n",
      "|      3          |      delta      |      2.2        |      8.8        |      7.7        |      2.2        \n",
      "|      4          |      eta        |      4.4        |      3.3        |      5.5        |      5.5        \n",
      "|      5          |      phi        |      5.5        |      4.4        |      9.9        |      8.8        \n",
      "|      6          |      kappa      |      6.6        |      7.7        |      2.2        |      9.9        \n",
      "|      7          |      mu         |      7.7        |      5.5        |      8.8        |      6.6        \n",
      "|      8          |      pi         |      8.8        |      9.9        |      6.6        |      1.1        \n",
      "|      9          |      sigma      |      9.9        |      0.9        |      4.4        |      3.3        \n"
     ]
    }
   ],
   "source": [
    "df.show(head = 10, col_max = 5)"
   ]
  },
  {
   "cell_type": "markdown",
   "metadata": {},
   "source": [
    "# test column insertion"
   ]
  },
  {
   "cell_type": "code",
   "execution_count": 401,
   "metadata": {},
   "outputs": [],
   "source": [
    "initial_columns = {'0': [0, 1, 2, 3, 4, 5, 6, 7, 8, 9], \n",
    "                   '1': ['0', '1', '2', '3', '4', '5', '6', '7', '8', '9'], \n",
    "                   '2': ['alpha','beta','gama','delta', 'eta', 'phi', 'kappa', 'mu', 'pi', 'sigma']}\n",
    "df = dataframe(initial_columns)\n",
    "#df = dataframe()\n",
    "df.insert('1', [0.9,1.1,3.3,2.2,4.4,5.5,6.6,7.7,8.8,9.9])"
   ]
  },
  {
   "cell_type": "code",
   "execution_count": 402,
   "metadata": {},
   "outputs": [
    {
     "name": "stdout",
     "output_type": "stream",
     "text": [
      "dataframe is limited to 10 rows and 5 columns. \n",
      "\n",
      "|      index      |      0          |      1          |      2          \n",
      "|                 |                 |                 |                 \n",
      "|      0          |      0.0        |      0.9        |      alpha      \n",
      "|      1          |      1.0        |      1.1        |      beta       \n",
      "|      2          |      2.0        |      3.3        |      gama       \n",
      "|      3          |      3.0        |      2.2        |      delta      \n",
      "|      4          |      4.0        |      4.4        |      eta        \n",
      "|      5          |      5.0        |      5.5        |      phi        \n",
      "|      6          |      6.0        |      6.6        |      kappa      \n",
      "|      7          |      7.0        |      7.7        |      mu         \n",
      "|      8          |      8.0        |      8.8        |      pi         \n",
      "|      9          |      9.0        |      9.9        |      sigma      \n"
     ]
    }
   ],
   "source": [
    "df.show(head = 10, col_max = 5)"
   ]
  },
  {
   "cell_type": "code",
   "execution_count": 403,
   "metadata": {},
   "outputs": [
    {
     "data": {
      "text/plain": [
       "[10, 4]"
      ]
     },
     "execution_count": 403,
     "metadata": {},
     "output_type": "execute_result"
    }
   ],
   "source": [
    "df.dimensions"
   ]
  },
  {
   "cell_type": "markdown",
   "metadata": {},
   "source": [
    "# draw graphic of 2 columns"
   ]
  },
  {
   "cell_type": "markdown",
   "metadata": {},
   "source": [
    "test with standard mode (lineplot)"
   ]
  },
  {
   "cell_type": "code",
   "execution_count": 388,
   "metadata": {
    "scrolled": true
   },
   "outputs": [
    {
     "data": {
      "image/png": "[encoded data removed]",
      "text/plain": [
       "<Figure size 432x288 with 1 Axes>"
      ]
     },
     "metadata": {
      "needs_background": "light"
     },
     "output_type": "display_data"
    }
   ],
   "source": [
    "df.plot('0', '1')"
   ]
  },
  {
   "cell_type": "markdown",
   "metadata": {},
   "source": [
    "test with scatterplot mode"
   ]
  },
  {
   "cell_type": "code",
   "execution_count": 389,
   "metadata": {
    "scrolled": true
   },
   "outputs": [
    {
     "data": {
      "image/png": "[encoded data removed]",
      "text/plain": [
       "<Figure size 432x288 with 1 Axes>"
      ]
     },
     "metadata": {
      "needs_background": "light"
     },
     "output_type": "display_data"
    }
   ],
   "source": [
    "df.plot('0', '1', how='scatterplot')"
   ]
  },
  {
   "cell_type": "markdown",
   "metadata": {},
   "source": [
    "I programmed macaco to output error if tries to plot list of strings "
   ]
  },
  {
   "cell_type": "markdown",
   "metadata": {},
   "source": [
    "# show data from columns"
   ]
  },
  {
   "cell_type": "code",
   "execution_count": 390,
   "metadata": {},
   "outputs": [
    {
     "data": {
      "text/plain": [
       "[0.0, 1.0, 2.0, 3.0, 4.0, 5.0, 6.0, 7.0, 8.0, 9.0]"
      ]
     },
     "execution_count": 390,
     "metadata": {},
     "output_type": "execute_result"
    }
   ],
   "source": [
    "df.tolist('0')"
   ]
  },
  {
   "cell_type": "code",
   "execution_count": 391,
   "metadata": {},
   "outputs": [
    {
     "data": {
      "text/plain": [
       "[0.9, 1.1, 3.3, 2.2, 4.4, 5.5, 6.6, 7.7, 8.8, 9.9]"
      ]
     },
     "execution_count": 391,
     "metadata": {},
     "output_type": "execute_result"
    }
   ],
   "source": [
    "df.tolist('1')"
   ]
  },
  {
   "cell_type": "code",
   "execution_count": 392,
   "metadata": {},
   "outputs": [
    {
     "data": {
      "text/plain": [
       "['alpha', 'beta', 'gama', 'delta', 'eta', 'phi', 'kappa', 'mu', 'pi', 'sigma']"
      ]
     },
     "execution_count": 392,
     "metadata": {},
     "output_type": "execute_result"
    }
   ],
   "source": [
    "df.tolist('2')"
   ]
  },
  {
   "cell_type": "markdown",
   "metadata": {},
   "source": [
    "# show data"
   ]
  },
  {
   "cell_type": "code",
   "execution_count": 393,
   "metadata": {},
   "outputs": [
    {
     "name": "stdout",
     "output_type": "stream",
     "text": [
      "[2.0, 3.0]\n",
      "[0.9]\n",
      "['gama', 'delta']\n",
      "{'0': [[0.0, 1.0]], '1': [[0.9, 1.1]], '2': [['alpha', 'beta']]}\n"
     ]
    }
   ],
   "source": [
    "print(df.locateCel('0', [2,3]))\n",
    "print(df.locateCel('1',0))\n",
    "print(df.locateCel('2',[2,3]))\n",
    "print(df.locateRow([0,1]))"
   ]
  },
  {
   "cell_type": "code",
   "execution_count": 394,
   "metadata": {},
   "outputs": [
    {
     "name": "stdout",
     "output_type": "stream",
     "text": [
      "dataframe is limited to 10 rows and 5 columns. \n",
      "\n",
      "|      index      |      0          |      1          |      2          \n",
      "|                 |                 |                 |                 \n",
      "|      0          |      0.0        |      0.9        |      alpha      \n",
      "|      1          |      1.0        |      1.1        |      beta       \n",
      "|      2          |      2.0        |      3.3        |      gama       \n",
      "|      3          |      3.0        |      2.2        |      delta      \n",
      "|      4          |      4.0        |      4.4        |      eta        \n",
      "|      5          |      5.0        |      5.5        |      phi        \n",
      "|      6          |      6.0        |      6.6        |      kappa      \n",
      "|      7          |      7.0        |      7.7        |      mu         \n",
      "|      8          |      8.0        |      8.8        |      pi         \n",
      "|      9          |      9.0        |      9.9        |      sigma      \n"
     ]
    }
   ],
   "source": [
    "df.show()"
   ]
  },
  {
   "cell_type": "markdown",
   "metadata": {},
   "source": [
    "# index"
   ]
  },
  {
   "cell_type": "code",
   "execution_count": 395,
   "metadata": {},
   "outputs": [],
   "source": [
    "for column in ['0', '1']:\n",
    "    df.toIndxCol(column)"
   ]
  },
  {
   "cell_type": "code",
   "execution_count": 396,
   "metadata": {},
   "outputs": [
    {
     "data": {
      "text/plain": [
       "['0', '1']"
      ]
     },
     "execution_count": 396,
     "metadata": {},
     "output_type": "execute_result"
    }
   ],
   "source": [
    "df.indexes"
   ]
  },
  {
   "cell_type": "markdown",
   "metadata": {},
   "source": [
    "# test removal"
   ]
  },
  {
   "cell_type": "code",
   "execution_count": 397,
   "metadata": {},
   "outputs": [
    {
     "data": {
      "text/plain": [
       "[10, 4]"
      ]
     },
     "execution_count": 397,
     "metadata": {},
     "output_type": "execute_result"
    }
   ],
   "source": [
    "df.dimensions"
   ]
  },
  {
   "cell_type": "code",
   "execution_count": 398,
   "metadata": {},
   "outputs": [],
   "source": [
    "df.remove('0')"
   ]
  },
  {
   "cell_type": "code",
   "execution_count": 399,
   "metadata": {},
   "outputs": [
    {
     "data": {
      "text/plain": [
       "{'1': 'dbl', '2': 'str'}"
      ]
     },
     "execution_count": 399,
     "metadata": {},
     "output_type": "execute_result"
    }
   ],
   "source": [
    "df.columns_dict"
   ]
  },
  {
   "cell_type": "code",
   "execution_count": 400,
   "metadata": {},
   "outputs": [
    {
     "data": {
      "text/plain": [
       "[10, 3]"
      ]
     },
     "execution_count": 400,
     "metadata": {},
     "output_type": "execute_result"
    }
   ],
   "source": [
    "df.dimensions"
   ]
  }
 ],
 "metadata": {
  "kernelspec": {
   "display_name": "Python 3",
   "language": "python",
   "name": "python3"
  },
  "language_info": {
   "codemirror_mode": {
    "name": "ipython",
    "version": 3
   },
   "file_extension": ".py",
   "mimetype": "text/x-python",
   "name": "python",
   "nbconvert_exporter": "python",
   "pygments_lexer": "ipython3",
   "version": "3.7.3"
  }
 },
 "nbformat": 4,
 "nbformat_minor": 2
}
